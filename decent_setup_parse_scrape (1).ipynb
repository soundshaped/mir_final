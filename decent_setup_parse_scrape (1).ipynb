{
 "cells": [
  {
   "cell_type": "code",
   "execution_count": 33,
   "id": "3ef58de6-119f-4ce1-baab-15c40332d648",
   "metadata": {},
   "outputs": [],
   "source": [
    "import utils as u\n",
    "import discogs_api as d\n",
    "import audio_processing as ap\n",
    "\n",
    "import pandas as pd"
   ]
  },
  {
   "cell_type": "code",
   "execution_count": 34,
   "id": "4d6cbe42-21b8-49d3-980c-0a45f2836837",
   "metadata": {},
   "outputs": [
    {
     "name": "stdout",
     "output_type": "stream",
     "text": [
      "The autoreload extension is already loaded. To reload it, use:\n",
      "  %reload_ext autoreload\n"
     ]
    }
   ],
   "source": [
    "%load_ext autoreload\n",
    "%autoreload 2"
   ]
  },
  {
   "cell_type": "markdown",
   "id": "58aeaa8a-fd45-4f95-bd30-16e0135a814f",
   "metadata": {},
   "source": [
    "## there are two main issues with this process\n",
    "### 1. conforming mp3 tags so they can query a single api\n",
    "### 1. a. Releases that aren't on discogs (more of an issue with UTTU and its sublabels)\n",
    "### 1. b. It's very clear that rules are hard to define for names and i'm not great at fuzzy search, some titles include things like 'EP and other titles don't in discogs/whatever database but are frequently named as such\n",
    "### 2. Basically every source lists genre as a per-release feature when I, at least, conceptualize genre as something that can be \"per song\""
   ]
  },
  {
   "cell_type": "code",
   "execution_count": 118,
   "id": "89c7fb33-a54a-4770-982c-f95feaa9483f",
   "metadata": {},
   "outputs": [],
   "source": [
    "# start discogs api client\n",
    "dc = d.get_discogs_client()\n",
    "# verify it's working\n",
    "dc.identity()"
   ]
  },
  {
   "cell_type": "code",
   "execution_count": 4,
   "id": "e153a980-a8e7-4387-a8c1-baf23f66faca",
   "metadata": {},
   "outputs": [],
   "source": [
    "hessle_dir = \"/mnt/d/MIR_music/Hessle/\"\n",
    "# hessle_dir = /mir_final_proj/Hessle #rough drive directory, i re-uploaded bc I retagged some mp3s to work with discogs better"
   ]
  },
  {
   "cell_type": "code",
   "execution_count": 85,
   "id": "e0779020-8095-4177-8b97-04c475dedff4",
   "metadata": {},
   "outputs": [],
   "source": [
    "# parse mp3s by tags into a dataframe and autofill 'label' column bc this label has no sublabels\n",
    "df_hessle = u.process_files(hessle_dir, \"Hessle Audio\")"
   ]
  },
  {
   "cell_type": "code",
   "execution_count": 125,
   "id": "b1b149a1-4a2e-4bca-b9fe-26d4853881ef",
   "metadata": {},
   "outputs": [],
   "source": [
    "# query discogs for hessle's label id number and download discography to avoid\n",
    "# querying genre and style info for each release individually\n",
    "lbl_id = d.find_label_id(dc, \"Hessle Audio\")\n",
    "# store release information\n",
    "discog = d.get_label_discography(dc, lbl_id)"
   ]
  },
  {
   "cell_type": "code",
   "execution_count": 128,
   "id": "7e29dc55-aa6b-4142-9fca-2781db85db61",
   "metadata": {},
   "outputs": [],
   "source": [
    "# set a new column for ints to relate df entries to discog release numbers\n",
    "df_hessle['discogs_id'] = int('nan')"
   ]
  },
  {
   "cell_type": "code",
   "execution_count": 141,
   "id": "abe565ab-626a-4b78-addb-1a7f1c019704",
   "metadata": {},
   "outputs": [],
   "source": [
    "# initialize a dictionary to hold the selected ID for each album\n",
    "selected_ids = {}\n",
    "\n",
    "# iterate over the discography list\n",
    "for entry in discog:\n",
    "    album_title = entry['title']\n",
    "    # If this is the first time we see this album add it, works for hessle\n",
    "    if album_title not in selected_ids:\n",
    "        selected_ids[album_title] = entry['id']\n",
    "\n",
    "# Now update the DataFrame to pair release nos to releases\n",
    "for album, discogs_id in selected_ids.items():\n",
    "    df_hessle.loc[df_hessle['album'] == album, 'discogs_id'] = discogs_id\n"
   ]
  },
  {
   "cell_type": "code",
   "execution_count": 142,
   "id": "4e4867b3-c2c7-4469-ba1b-48c241be395d",
   "metadata": {},
   "outputs": [],
   "source": [
    "#test df against downloaded discography from discogs\n",
    "for index, row in df_hessle.iterrows():\n",
    "    # Check if the 'album' value in discog matches the 'album' in the DataFrame\n",
    "    discog_entry = next((item for item in discog if item['title'] == row['album']), None)\n",
    "    \n",
    "    # if there's a matching entry in discog\n",
    "    if discog_entry:\n",
    "        expected_id = discog_entry['id']\n",
    "        # check if the discogs_id in the DataFrame matches the expected ID\n",
    "        if row['discogs_id'] != expected_id:\n",
    "            print(f\"Mismatch at index {index}: Album '{row['album']}' has discogs_id {row['discogs_id']}, expected {expected_id}\")\n",
    "    else:\n",
    "        print(f\"No discog entry found for album '{row['album']}' at index {index}\")\n"
   ]
  },
  {
   "cell_type": "code",
   "execution_count": 143,
   "id": "652774ee-88bf-4e2c-91c6-3d65e3bb0312",
   "metadata": {},
   "outputs": [
    {
     "data": {
      "text/plain": [
       "41"
      ]
     },
     "execution_count": 143,
     "metadata": {},
     "output_type": "execute_result"
    }
   ],
   "source": [
    "len(df_hessle['album'].unique())"
   ]
  },
  {
   "cell_type": "code",
   "execution_count": 145,
   "id": "f3976167-dcab-4c1b-b511-364c85acaba0",
   "metadata": {},
   "outputs": [],
   "source": [
    "# use function in other file to get info per release only once\n",
    "# discogs and essentially every other source only does per release genre info\n",
    "hessle_with_discogs_info = d.process_dataframe(df_hessle, dc)"
   ]
  },
  {
   "cell_type": "code",
   "execution_count": 147,
   "id": "4fa8ae8f-1d53-49de-999d-4064da8880b5",
   "metadata": {},
   "outputs": [],
   "source": [
    "# save just in case\n",
    "hessle_with_discogs_info.to_csv(\"good_hessle_df.csv\")"
   ]
  },
  {
   "cell_type": "code",
   "execution_count": null,
   "id": "7394f37a-73ec-4c33-b0d5-205a0e858d25",
   "metadata": {},
   "outputs": [],
   "source": [
    "# get file paths to pass to pooling for processing\n",
    "file_paths = hessle_with_discogs_info['file_path'].tolist()\n",
    "\n",
    "hessle_results = ap.process_files_parallel(file_paths)"
   ]
  },
  {
   "cell_type": "code",
   "execution_count": 163,
   "id": "50c076da-c73b-4cfd-bbab-596ed7769eb5",
   "metadata": {},
   "outputs": [],
   "source": [
    "#update df with corresponding analysis results to tracks or update with error\n",
    "for i, features in enumerate(hessle_results):\n",
    "    if features is not None:\n",
    "        for key, value in features.items():\n",
    "            hessle_with_discogs_info.loc[i, key] = value\n",
    "    else:\n",
    "        hessle_with_discogs_info.loc[i, 'processing_error'] = True"
   ]
  },
  {
   "cell_type": "code",
   "execution_count": 165,
   "id": "f0c1712a-1d27-4aaa-b7d0-33550fcc3615",
   "metadata": {},
   "outputs": [
    {
     "data": {
      "text/plain": [
       "0      135.999178\n",
       "1      135.999178\n",
       "2       92.285156\n",
       "3       92.285156\n",
       "4      135.999178\n",
       "          ...    \n",
       "162    107.666016\n",
       "163    135.999178\n",
       "164     89.102909\n",
       "165    135.999178\n",
       "166     80.749512\n",
       "Name: tempo, Length: 167, dtype: float64"
      ]
     },
     "execution_count": 165,
     "metadata": {},
     "output_type": "execute_result"
    }
   ],
   "source": [
    "hessle_with_discogs_info['tempo']"
   ]
  },
  {
   "cell_type": "code",
   "execution_count": 170,
   "id": "3ff0b18e-0074-42b0-82c9-e0c0dd8722c4",
   "metadata": {},
   "outputs": [
    {
     "data": {
      "text/plain": [
       "Index(['title', 'artist', 'album', 'year', 'genre', 'label', 'file_path',\n",
       "       'discogs_id', 'genres', 'styles', 'tempo', 'centroid_mean',\n",
       "       'centroid_std', 'spread_mean', 'spread_std', 'rolloff_mean',\n",
       "       'rolloff_std', 'chroma_stft_mean', 'chroma_stft_var', 'rms_mean',\n",
       "       'rms_std', 'harmony_mean', 'harmony_var', 'percu_mean', 'percu_var',\n",
       "       'mfcc_1_mean', 'mfcc_2_mean', 'mfcc_3_mean', 'mfcc_4_mean',\n",
       "       'mfcc_5_mean', 'mfcc_6_mean', 'mfcc_7_mean', 'mfcc_8_mean',\n",
       "       'mfcc_9_mean', 'mfcc_10_mean', 'mfcc_11_mean', 'mfcc_12_mean',\n",
       "       'mfcc_13_mean', 'mfcc_1_var', 'mfcc_2_var', 'mfcc_3_var', 'mfcc_4_var',\n",
       "       'mfcc_5_var', 'mfcc_6_var', 'mfcc_7_var', 'mfcc_8_var', 'mfcc_9_var',\n",
       "       'mfcc_10_var', 'mfcc_11_var', 'mfcc_12_var', 'mfcc_13_var'],\n",
       "      dtype='object')"
      ]
     },
     "execution_count": 170,
     "metadata": {},
     "output_type": "execute_result"
    }
   ],
   "source": [
    "hessle_with_discogs_info.columns"
   ]
  },
  {
   "cell_type": "code",
   "execution_count": 168,
   "id": "5fe3931e-94ce-4744-b5a7-68f866d1f4d9",
   "metadata": {},
   "outputs": [],
   "source": [
    "hessle_with_discogs_info.to_csv('hessle_with_features.csv')"
   ]
  },
  {
   "cell_type": "markdown",
   "id": "0b58c2a7-224b-4c2f-9d2b-0afd8de9ddbb",
   "metadata": {},
   "source": [
    "## uttu data isn't quite there yet, below here isn't functional"
   ]
  },
  {
   "cell_type": "code",
   "execution_count": 90,
   "id": "9f2a17b9-2f60-4516-870a-44297d409d0f",
   "metadata": {},
   "outputs": [],
   "source": [
    "uttu_id = d.find_label_id('Unknown To The Unknown')\n",
    "hothaus_id = 565738 # can't name search via discogs api\n",
    "dancetrax_id = d.find_label_id('Dance Trax') #dance trax (4) on discogs..\n",
    "soft_comp_id = d.find_label_id(\"Soft Computing\")"
   ]
  },
  {
   "cell_type": "code",
   "execution_count": 106,
   "id": "30c9ace2-3240-4bec-bd16-0926d9d41e63",
   "metadata": {},
   "outputs": [],
   "source": [
    "hhrecs = d.find_label_id('Hot Haus Recs')"
   ]
  },
  {
   "cell_type": "code",
   "execution_count": 107,
   "id": "d2175e9e-4d1e-4432-b23d-51ea9d09eb52",
   "metadata": {},
   "outputs": [
    {
     "data": {
      "text/plain": [
       "565738"
      ]
     },
     "execution_count": 107,
     "metadata": {},
     "output_type": "execute_result"
    }
   ],
   "source": [
    "hhrecs"
   ]
  },
  {
   "cell_type": "code",
   "execution_count": 116,
   "id": "bdea2670-e5d7-49ab-9927-468fa6ef0471",
   "metadata": {},
   "outputs": [
    {
     "name": "stdout",
     "output_type": "stream",
     "text": [
      "Request failed with status code 404. Response: {\"message\": \"The requested resource was not found.\"}\n"
     ]
    }
   ],
   "source": [
    "uttu_discog = d.get_label_discography(uttu_id)\n",
    "hothaus_discog = d.get_label_discography(hothaus_id)\n",
    "dancetrax_discog = d.get_label_discography(dancetrax_id)"
   ]
  },
  {
   "cell_type": "code",
   "execution_count": 167,
   "id": "9418b618-f8a2-4099-b1ea-2f66116d21ce",
   "metadata": {},
   "outputs": [
    {
     "ename": "HTTPError",
     "evalue": "404: The requested resource was not found.",
     "output_type": "error",
     "traceback": [
      "\u001b[0;31m---------------------------------------------------------------------------\u001b[0m",
      "\u001b[0;31mHTTPError\u001b[0m                                 Traceback (most recent call last)",
      "Cell \u001b[0;32mIn[167], line 1\u001b[0m\n\u001b[0;32m----> 1\u001b[0m hothaus_discog \u001b[38;5;241m=\u001b[39m \u001b[43md\u001b[49m\u001b[38;5;241;43m.\u001b[39;49m\u001b[43mget_label_discography\u001b[49m\u001b[43m(\u001b[49m\u001b[43mdc\u001b[49m\u001b[43m,\u001b[49m\u001b[43m \u001b[49m\u001b[43mhothaus_id\u001b[49m\u001b[43m)\u001b[49m\n\u001b[1;32m      2\u001b[0m \u001b[38;5;28mlen\u001b[39m(hothaus_discog)\n",
      "File \u001b[0;32m~/solo_final_project/discogs_api.py:50\u001b[0m, in \u001b[0;36mget_label_discography\u001b[0;34m(discogs_client, label_id)\u001b[0m\n\u001b[1;32m     47\u001b[0m all_releases \u001b[38;5;241m=\u001b[39m []\n\u001b[1;32m     49\u001b[0m \u001b[38;5;66;03m# Process the first page\u001b[39;00m\n\u001b[0;32m---> 50\u001b[0m \u001b[38;5;28;01mfor\u001b[39;00m release \u001b[38;5;129;01min\u001b[39;00m \u001b[43mlabel\u001b[49m\u001b[38;5;241;43m.\u001b[39;49m\u001b[43mreleases\u001b[49m\u001b[38;5;241m.\u001b[39mpage(\u001b[38;5;241m1\u001b[39m):\n\u001b[1;32m     51\u001b[0m     all_releases\u001b[38;5;241m.\u001b[39mappend({\n\u001b[1;32m     52\u001b[0m         \u001b[38;5;124m'\u001b[39m\u001b[38;5;124mid\u001b[39m\u001b[38;5;124m'\u001b[39m: release\u001b[38;5;241m.\u001b[39mid,\n\u001b[1;32m     53\u001b[0m         \u001b[38;5;124m'\u001b[39m\u001b[38;5;124mtitle\u001b[39m\u001b[38;5;124m'\u001b[39m: release\u001b[38;5;241m.\u001b[39mtitle,\n\u001b[1;32m     54\u001b[0m         \u001b[38;5;124m'\u001b[39m\u001b[38;5;124myear\u001b[39m\u001b[38;5;124m'\u001b[39m: release\u001b[38;5;241m.\u001b[39myear\n\u001b[1;32m     55\u001b[0m     })\n\u001b[1;32m     57\u001b[0m \u001b[38;5;66;03m# Handling pagination - check if there are more pages\u001b[39;00m\n",
      "File \u001b[0;32m~/anaconda3/envs/finalproj/lib/python3.8/site-packages/discogs_client/models.py:130\u001b[0m, in \u001b[0;36mObjectCollectionDescriptor.__get__\u001b[0;34m(self, instance, owner)\u001b[0m\n\u001b[1;32m    128\u001b[0m     \u001b[38;5;28;01mreturn\u001b[39;00m \u001b[38;5;28mself\u001b[39m\n\u001b[1;32m    129\u001b[0m wrapper_class \u001b[38;5;241m=\u001b[39m CLASS_MAP[\u001b[38;5;28mself\u001b[39m\u001b[38;5;241m.\u001b[39mclass_name\u001b[38;5;241m.\u001b[39mlower()]\n\u001b[0;32m--> 130\u001b[0m \u001b[38;5;28;01mreturn\u001b[39;00m \u001b[38;5;28mself\u001b[39m\u001b[38;5;241m.\u001b[39mlist_class(instance\u001b[38;5;241m.\u001b[39mclient, \u001b[43minstance\u001b[49m\u001b[38;5;241;43m.\u001b[39;49m\u001b[43mfetch\u001b[49m\u001b[43m(\u001b[49m\u001b[38;5;28;43mself\u001b[39;49m\u001b[38;5;241;43m.\u001b[39;49m\u001b[43murl_key\u001b[49m\u001b[43m)\u001b[49m, \u001b[38;5;28mself\u001b[39m\u001b[38;5;241m.\u001b[39mname, wrapper_class)\n",
      "File \u001b[0;32m~/anaconda3/envs/finalproj/lib/python3.8/site-packages/discogs_client/models.py:245\u001b[0m, in \u001b[0;36mPrimaryAPIObject.fetch\u001b[0;34m(self, key, default)\u001b[0m\n\u001b[1;32m    241\u001b[0m     \u001b[38;5;28;01mreturn\u001b[39;00m default\n\u001b[1;32m    243\u001b[0m \u001b[38;5;66;03m# Now refresh the object from its resource_url.\u001b[39;00m\n\u001b[1;32m    244\u001b[0m \u001b[38;5;66;03m# The key might exist but not be in our cache.\u001b[39;00m\n\u001b[0;32m--> 245\u001b[0m \u001b[38;5;28;43mself\u001b[39;49m\u001b[38;5;241;43m.\u001b[39;49m\u001b[43mrefresh\u001b[49m\u001b[43m(\u001b[49m\u001b[43m)\u001b[49m\n\u001b[1;32m    247\u001b[0m \u001b[38;5;28;01mtry\u001b[39;00m:\n\u001b[1;32m    248\u001b[0m     \u001b[38;5;28;01mreturn\u001b[39;00m \u001b[38;5;28mself\u001b[39m\u001b[38;5;241m.\u001b[39mdata[key]\n",
      "File \u001b[0;32m~/anaconda3/envs/finalproj/lib/python3.8/site-packages/discogs_client/models.py:204\u001b[0m, in \u001b[0;36mPrimaryAPIObject.refresh\u001b[0;34m(self)\u001b[0m\n\u001b[1;32m    202\u001b[0m \u001b[38;5;28;01mdef\u001b[39;00m \u001b[38;5;21mrefresh\u001b[39m(\u001b[38;5;28mself\u001b[39m):\n\u001b[1;32m    203\u001b[0m     \u001b[38;5;28;01mif\u001b[39;00m \u001b[38;5;28mself\u001b[39m\u001b[38;5;241m.\u001b[39mdata\u001b[38;5;241m.\u001b[39mget(\u001b[38;5;124m'\u001b[39m\u001b[38;5;124mresource_url\u001b[39m\u001b[38;5;124m'\u001b[39m):\n\u001b[0;32m--> 204\u001b[0m         data \u001b[38;5;241m=\u001b[39m \u001b[38;5;28;43mself\u001b[39;49m\u001b[38;5;241;43m.\u001b[39;49m\u001b[43mclient\u001b[49m\u001b[38;5;241;43m.\u001b[39;49m\u001b[43m_get\u001b[49m\u001b[43m(\u001b[49m\u001b[38;5;28;43mself\u001b[39;49m\u001b[38;5;241;43m.\u001b[39;49m\u001b[43mdata\u001b[49m\u001b[43m[\u001b[49m\u001b[38;5;124;43m'\u001b[39;49m\u001b[38;5;124;43mresource_url\u001b[39;49m\u001b[38;5;124;43m'\u001b[39;49m\u001b[43m]\u001b[49m\u001b[43m)\u001b[49m\n\u001b[1;32m    205\u001b[0m         \u001b[38;5;28mself\u001b[39m\u001b[38;5;241m.\u001b[39mdata\u001b[38;5;241m.\u001b[39mupdate(data)\n\u001b[1;32m    206\u001b[0m         \u001b[38;5;28mself\u001b[39m\u001b[38;5;241m.\u001b[39mchanges \u001b[38;5;241m=\u001b[39m {}\n",
      "File \u001b[0;32m~/anaconda3/envs/finalproj/lib/python3.8/site-packages/discogs_client/client.py:114\u001b[0m, in \u001b[0;36mClient._get\u001b[0;34m(self, url)\u001b[0m\n\u001b[1;32m    113\u001b[0m \u001b[38;5;28;01mdef\u001b[39;00m \u001b[38;5;21m_get\u001b[39m(\u001b[38;5;28mself\u001b[39m, url):\n\u001b[0;32m--> 114\u001b[0m     \u001b[38;5;28;01mreturn\u001b[39;00m \u001b[38;5;28;43mself\u001b[39;49m\u001b[38;5;241;43m.\u001b[39;49m\u001b[43m_request\u001b[49m\u001b[43m(\u001b[49m\u001b[38;5;124;43m'\u001b[39;49m\u001b[38;5;124;43mGET\u001b[39;49m\u001b[38;5;124;43m'\u001b[39;49m\u001b[43m,\u001b[49m\u001b[43m \u001b[49m\u001b[43murl\u001b[49m\u001b[43m)\u001b[49m\n",
      "File \u001b[0;32m~/anaconda3/envs/finalproj/lib/python3.8/site-packages/discogs_client/client.py:111\u001b[0m, in \u001b[0;36mClient._request\u001b[0;34m(self, method, url, data)\u001b[0m\n\u001b[1;32m    109\u001b[0m     \u001b[38;5;28;01mreturn\u001b[39;00m body\n\u001b[1;32m    110\u001b[0m \u001b[38;5;28;01melse\u001b[39;00m:\n\u001b[0;32m--> 111\u001b[0m     \u001b[38;5;28;01mraise\u001b[39;00m HTTPError(body[\u001b[38;5;124m'\u001b[39m\u001b[38;5;124mmessage\u001b[39m\u001b[38;5;124m'\u001b[39m], status_code)\n",
      "\u001b[0;31mHTTPError\u001b[0m: 404: The requested resource was not found."
     ]
    }
   ],
   "source": [
    "hothaus_discog = d.get_label_discography(dc, hothaus_id)\n",
    "len(hothaus_discog)"
   ]
  },
  {
   "cell_type": "code",
   "execution_count": 102,
   "id": "2c97875c-8f9a-4910-87df-2d8e1d3b8004",
   "metadata": {},
   "outputs": [],
   "source": [
    "softcomp_discog = d.get_label_discography(soft_comp_id)"
   ]
  },
  {
   "cell_type": "code",
   "execution_count": 98,
   "id": "45a3f577-9c61-4b49-8cee-98606cb17af4",
   "metadata": {},
   "outputs": [
    {
     "data": {
      "text/plain": [
       "221"
      ]
     },
     "execution_count": 98,
     "metadata": {},
     "output_type": "execute_result"
    }
   ],
   "source": [
    "len(uttu_discog)"
   ]
  },
  {
   "cell_type": "code",
   "execution_count": 99,
   "id": "30355451-ee7e-443a-9805-88aaa515dbf1",
   "metadata": {
    "scrolled": true
   },
   "outputs": [
    {
     "data": {
      "text/plain": [
       "0"
      ]
     },
     "execution_count": 99,
     "metadata": {},
     "output_type": "execute_result"
    }
   ],
   "source": [
    "len(hothaus_discog)"
   ]
  },
  {
   "cell_type": "code",
   "execution_count": 100,
   "id": "c30ad8b1-3bb7-4810-bc77-2f110e3a6496",
   "metadata": {},
   "outputs": [
    {
     "data": {
      "text/plain": [
       "68"
      ]
     },
     "execution_count": 100,
     "metadata": {},
     "output_type": "execute_result"
    }
   ],
   "source": [
    "len(dancetrax_discog)"
   ]
  },
  {
   "cell_type": "code",
   "execution_count": 103,
   "id": "e0e449bb-a208-4286-8ba8-54b0c02da7b2",
   "metadata": {},
   "outputs": [
    {
     "data": {
      "text/plain": [
       "22"
      ]
     },
     "execution_count": 103,
     "metadata": {},
     "output_type": "execute_result"
    }
   ],
   "source": [
    "len(softcomp_discog)"
   ]
  },
  {
   "cell_type": "code",
   "execution_count": 105,
   "id": "d7d451f9-c87f-44f1-a557-832b58e3d4e6",
   "metadata": {},
   "outputs": [
    {
     "name": "stdout",
     "output_type": "stream",
     "text": [
      "UTTU093\n",
      "UTTU093\n",
      "UTTU093\n",
      "UTTU093\n",
      "WeMe313.20\n",
      "WeMe313.20\n",
      "DATARMX\n",
      "DRUIDSDREAM1\n",
      "ETU002 \n",
      "ETU002 \n",
      "ETU002BONUS\n",
      "MINDGAME\n",
      "none\n",
      "none\n",
      "none\n",
      "none\n",
      "none\n",
      "none\n",
      "none\n",
      "none\n",
      "TRIBAL_DATA_\n",
      "TRIBALTRAX001\n",
      "UTTU 003\n",
      "UTTU 005\n",
      "UTTU 007\n",
      "UTTU 012\n",
      "UTTU 014B\n",
      "UTTU 018\n",
      "UTTU 028\n",
      "UTTU 054\n",
      "UTTU 059\n",
      "UTTU 062\n",
      "UTTU 072 \n",
      "UTTU 074 \n",
      "UTTU 074 \n",
      "UTTU 075\n",
      "UTTU 077\n",
      "UTTU 078\n",
      "UTTU 079\n",
      "UTTU 079\n",
      "UTTU 080 \n",
      "UTTU 081\n",
      "UTTU 083\n",
      "UTTU 088\n",
      "UTTU 090\n",
      "UTTU 090\n",
      "UTTU 096 \n",
      "UTTU 096 \n",
      "UTTU 38 \n",
      "UTTU 38 \n",
      "UTTU FACT\n",
      "UTTU LEGO RAVE \n",
      "UTTU_004\n",
      "UTTU_005\n",
      "UTTU_005\n",
      "UTTU_006\n",
      "UTTU_008\n",
      "UTTU_010\n",
      "UTTU_011\n",
      "UTTU_013\n",
      "UTTU_016\n",
      "UTTU_017\n",
      "UTTU_018\n",
      "UTTU_019\n",
      "UTTU_020\n",
      "UTTU_020\n",
      "UTTU_021\n",
      "UTTU_022\n",
      "UTTU_023\n",
      "UTTU_024\n",
      "UTTU_025\n",
      "UTTU_025\n",
      "UTTU_025\n",
      "UTTU_026\n",
      "UTTU_030\n",
      "UTTU_031\n",
      "UTTU_032\n",
      "UTTU_034\n",
      "UTTU_034\n",
      "UTTU_035\n",
      " UTTU_036\n",
      "UTTU_037\n",
      "UTTU_037\n",
      "UTTU_039\n",
      "UTTU_039\n",
      "UTTU_040\n",
      "UTTU_041\n",
      "UTTU_042\n",
      "UTTU_042\n",
      "UTTU_043\n",
      "UTTU_045\n",
      "UTTU_046\n",
      "UTTU_048\n",
      "UTTU_049_RMX\n",
      "UTTU_051\n",
      "UTTU_053\n",
      "UTTU_15_B\n",
      "UTTU_1UP\n",
      "UTTU_GOGGLE\n",
      "UTTU_GOGGLE\n",
      "UTTU_GOGGLE\n",
      "UTTU_LEGO\n",
      "UTTU_LEGO\n",
      "UTTU_LEGO\n",
      "UTTU_LEGO\n",
      "UTTU_MK\n",
      "UTTU.CLUB_002\n",
      "UTTU007\n",
      "UTTU009\n",
      "uttu012\n",
      "UTTU041\n",
      "UTTU044\n",
      "UTTU047\n",
      "UTTU049\n",
      "UTTU050\n",
      "UTTU050\n",
      "UTTU052\n",
      "UTTU055\n",
      "UTTU056\n",
      "UTTU057\n",
      "UTTU058\n",
      "UTTU060\n",
      "UTTU060\n",
      "UTTU060\n",
      "UTTU060\n",
      "UTTU060\n",
      "UTTU061\n",
      "UTTU061\n",
      "UTTU063\n",
      "UTTU064\n",
      "UTTU065\n",
      "UTTU066\n",
      " UTTU067 \n",
      "UTTU067 \n",
      "UTTU068 \n",
      "UTTU069\n",
      "UTTU069\n",
      "UTTU069\n",
      "UTTU071\n",
      "UTTU071\n",
      "UTTU073\n",
      "UTTU076\n",
      "UTTU082\n",
      "UTTU082\n",
      "UTTU084\n",
      "UTTU085\n",
      "UTTU086\n",
      "UTTU087\n",
      "UTTU087\n",
      "UTTU089\n",
      "UTTU089\n",
      "UTTU091\n",
      "UTTU091\n",
      "UTTU091\n",
      "UTTU092\n",
      "UTTU093\n",
      "UTTU093\n",
      "UTTU094\n",
      "UTTU094\n",
      "UTTU095\n",
      "UTTU095\n",
      "UTTU097\n",
      "UTTU097\n",
      "UTTU098\n",
      "UTTU099\n",
      "UTTU100\n",
      "UTTU101\n",
      "UTTU102\n",
      "UTTU102\n",
      "UTTU102\n",
      "UTTU103\n",
      "UTTU104\n",
      "UTTU104\n",
      "UTTU105\n",
      "UTTU105\n",
      "UTTU105\n",
      "UTTU106\n",
      "UTTU107\n",
      "UTTU108\n",
      "UTTU109\n",
      "UTTU109\n",
      "UTTU110\n",
      "UTTU111\n",
      "UTTU112\n",
      "UTTU113\n",
      "UTTU113\n",
      "UTTU114\n",
      "UTTU115\n",
      "UTTU116\n",
      "UTTU117\n",
      "UTTU118\n",
      "UTTU119\n",
      "UTTU120\n",
      "UTTU121\n",
      "UTTU123\n",
      "UTTU123\n",
      "UTTU124\n",
      "UTTU125\n",
      "UTTU126\n",
      "UTTU127\n",
      "UTTU128\n",
      "UTTU129\n",
      "UTTU134\n",
      "UTTU136\n",
      "UTTU140\n",
      "UTTU70\n",
      "UTTU70\n",
      "UTTU76\n",
      "UTTUBONUS002\n",
      "UTTUBONUS003\n",
      "UTTUBONUS003\n",
      "UTTUDREAMS\n",
      "UTTUDREAMS\n",
      "UTTUENDORFINS\n",
      "UTTUETU\n",
      "UTTUFACT\n",
      "UTTUICEAGE\n",
      "UTTUSPOOKY\n",
      "UTTUTODDIES\n",
      "UTUU 081\n",
      "VIVOD/UTTU 001\n"
     ]
    }
   ],
   "source": []
  },
  {
   "cell_type": "code",
   "execution_count": null,
   "id": "bf311b4a-1bd3-471f-9de3-90b4a21476ea",
   "metadata": {},
   "outputs": [],
   "source": []
  }
 ],
 "metadata": {
  "kernelspec": {
   "display_name": "Python 3 (ipykernel)",
   "language": "python",
   "name": "python3"
  },
  "language_info": {
   "codemirror_mode": {
    "name": "ipython",
    "version": 3
   },
   "file_extension": ".py",
   "mimetype": "text/x-python",
   "name": "python",
   "nbconvert_exporter": "python",
   "pygments_lexer": "ipython3",
   "version": "3.8.18"
  }
 },
 "nbformat": 4,
 "nbformat_minor": 5
}
